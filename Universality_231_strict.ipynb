{
 "cells": [
  {
   "cell_type": "code",
   "execution_count": 1,
   "metadata": {},
   "outputs": [],
   "source": [
    "import numpy as np\n",
    "import random\n",
    "import matplotlib.pyplot as plt\n",
    "from collections import defaultdict\n",
    "import scipy.special"
   ]
  },
  {
   "cell_type": "code",
   "execution_count": 2,
   "metadata": {},
   "outputs": [],
   "source": [
    "def plot_permutation(P):\n",
    "    n = len(P)\n",
    "    x_values = [i for i in range(n)]\n",
    "    y_values = P\n",
    "    plt.scatter(x_values,y_values, label = str(P))"
   ]
  },
  {
   "cell_type": "code",
   "execution_count": 3,
   "metadata": {},
   "outputs": [],
   "source": [
    "def unrank_permutation(n_list,d):\n",
    "    n = len(n_list)\n",
    "    nn_list = [h for h in n_list]\n",
    "    if d == 0:\n",
    "        return nn_list\n",
    "    for k in range(n):\n",
    "        if d < (k+1)*np.math.factorial(n-1):\n",
    "            nn_list.remove(n_list[k])\n",
    "            return [n_list[k]] + unrank_permutation(nn_list,d - k*np.math.factorial(n-1)) "
   ]
  },
  {
   "cell_type": "code",
   "execution_count": 5,
   "metadata": {},
   "outputs": [],
   "source": [
    "def unrank_binomial(n,k,d):\n",
    "    if n == 0:\n",
    "        return \"\"\n",
    "    C = scipy.special.binom(n-1,k)\n",
    "    if d < C:\n",
    "        return \"0\" + unrank_binomial(n-1,k,d)\n",
    "    else:\n",
    "        return \"1\" + unrank_binomial(n-1,k-1,d-C)"
   ]
  },
  {
   "cell_type": "code",
   "execution_count": null,
   "metadata": {},
   "outputs": [],
   "source": []
  },
  {
   "cell_type": "code",
   "execution_count": 6,
   "metadata": {},
   "outputs": [],
   "source": [
    "def relative_order(p):\n",
    "    '''takes a list of n distinct integers and returns the permutation from 0 to n-1 with the same relative order.'''\n",
    "    n = len(p)\n",
    "    SP = sorted(p)\n",
    "    output = [0]*n\n",
    "    for i in range(n):\n",
    "        ind = SP.index(p[i])\n",
    "        output[i] = ind\n",
    "    return output"
   ]
  },
  {
   "cell_type": "code",
   "execution_count": 37,
   "metadata": {},
   "outputs": [],
   "source": [
    "def avoids_231(permutation):\n",
    "    \"\"\"determines (True or False) if a permutation avoids the pattern 231\"\"\"\n",
    "    n = len(permutation)\n",
    "    if n<2:\n",
    "        return True\n",
    "    max_ind = 0\n",
    "    for i in range(1,n):\n",
    "        if permutation[max_ind] < permutation[i]:\n",
    "            max_ind = i\n",
    "    if avoids_231(permutation[:max_ind]):\n",
    "        if avoids_231(permutation[max_ind+1:]):\n",
    "            maxL = -1\n",
    "            for j in range(max_ind):\n",
    "                if permutation[j] > maxL:\n",
    "                    maxL = permutation[j]\n",
    "            for j in range(max_ind+1,n):\n",
    "                if permutation[j] < maxL:\n",
    "                    return False\n",
    "            return True\n",
    "    return False\n",
    "    "
   ]
  },
  {
   "cell_type": "code",
   "execution_count": 8,
   "metadata": {},
   "outputs": [],
   "source": [
    "def count_different_patterns(P,k):\n",
    "    \"\"\"counts the number of different patterns of length k in permutation P\"\"\"\n",
    "    count = 0\n",
    "    pattern_hash = defaultdict(int)\n",
    "    n = len(P)\n",
    "    C = scipy.special.binom(n,k)\n",
    "    for i in range(int(C)):\n",
    "        fbs = unrank_binomial(n,k,i)\n",
    "        rel_order = []\n",
    "        for j in range(n):\n",
    "            if fbs[j] == \"1\":\n",
    "                rel_order = rel_order + [P[j]]\n",
    "        RO = str(relative_order(rel_order))\n",
    "        if pattern_hash[RO] == 0:\n",
    "            count = count + 1\n",
    "        pattern_hash[RO] = pattern_hash[RO] + 1\n",
    "    return count"
   ]
  },
  {
   "cell_type": "code",
   "execution_count": 9,
   "metadata": {},
   "outputs": [],
   "source": [
    "def count_different_231_avoiders(P,k):\n",
    "    \"\"\"counts the number of different 231-avoiding patterns of length k in permutation P\"\"\"\n",
    "    count = 0\n",
    "    pattern_hash = defaultdict(int)\n",
    "    n = len(P)\n",
    "    C = scipy.special.binom(n,k)\n",
    "    for i in range(int(C)):\n",
    "        fbs = unrank_binomial(n,k,i)\n",
    "        rel_order = []\n",
    "        for j in range(n):\n",
    "            if fbs[j] == \"1\":\n",
    "                rel_order = rel_order + [P[j]]\n",
    "        RO = str(relative_order(rel_order))\n",
    "        if pattern_hash[RO] == 0:\n",
    "            if avoids_231(rel_order):\n",
    "                count = count + 1\n",
    "                pattern_hash[RO] = pattern_hash[RO] + 1\n",
    "    return count"
   ]
  },
  {
   "cell_type": "code",
   "execution_count": 32,
   "metadata": {},
   "outputs": [],
   "source": [
    "def count_different_231_avoiders_and_others(P,k):\n",
    "    \"\"\"counts the number of different 231-avoiding patterns of length k in permutation P\"\"\"\n",
    "    count231 = 0\n",
    "    countothers = 0\n",
    "    pattern_hash = defaultdict(int)\n",
    "    n = len(P)\n",
    "    C = scipy.special.binom(n,k)\n",
    "    for i in range(int(C)):\n",
    "        fbs = unrank_binomial(n,k,i)\n",
    "        rel_order = []\n",
    "        for j in range(n):\n",
    "            if fbs[j] == \"1\":\n",
    "                rel_order = rel_order + [P[j]]\n",
    "        RO = str(relative_order(rel_order))\n",
    "        if avoids_231(rel_order):\n",
    "            if pattern_hash[RO] == 0:\n",
    "                count231 = count231 + 1\n",
    "                pattern_hash[RO] = pattern_hash[RO] + 1\n",
    "        else:\n",
    "            countothers = countothers + 1   \n",
    "    return (count231,countothers)"
   ]
  },
  {
   "cell_type": "code",
   "execution_count": 39,
   "metadata": {},
   "outputs": [
    {
     "data": {
      "text/plain": [
       "False"
      ]
     },
     "execution_count": 39,
     "metadata": {},
     "output_type": "execute_result"
    }
   ],
   "source": [
    "avoids_231([1, 2, 4, 5, 6, 7, 0, 8, 9, 3,-1])"
   ]
  },
  {
   "cell_type": "code",
   "execution_count": 38,
   "metadata": {},
   "outputs": [
    {
     "data": {
      "text/plain": [
       "(1, 182)"
      ]
     },
     "execution_count": 38,
     "metadata": {},
     "output_type": "execute_result"
    }
   ],
   "source": [
    "count_different_231_avoiders_and_others([1, 2, 4, 5, 6, 7, 0, 8, 9, 3],6)"
   ]
  },
  {
   "cell_type": "code",
   "execution_count": 25,
   "metadata": {},
   "outputs": [],
   "source": [
    "def crossover1(P1,P2):\n",
    "    \"\"\"random entry fill in the gaps\"\"\"\n",
    "    n = len(P1)\n",
    "    offspring = [-1]*n\n",
    "    r = random.random()\n",
    "    if r < 0.5:\n",
    "        offspring[0] = P1[0]\n",
    "    else:\n",
    "        offspring[0] = P2[0]\n",
    "    for i in range(1,n):\n",
    "        r = random.random()\n",
    "        if r < 0.5:\n",
    "            j = i\n",
    "            while P1[j] in offspring:\n",
    "                j = (j+1) % n\n",
    "            offspring[i] = P1[j]\n",
    "        else:\n",
    "            j = i\n",
    "            while P2[j] in offspring:\n",
    "                j = (j+1) % n\n",
    "            offspring[i] = P2[j]\n",
    "    return offspring"
   ]
  },
  {
   "cell_type": "code",
   "execution_count": 26,
   "metadata": {},
   "outputs": [],
   "source": [
    "def crossover2(P1,P2):\n",
    "    \"\"\"cut and crossfill\"\"\"\n",
    "    n = len(P1)\n",
    "    child1 = [-1]*n\n",
    "    child2 = [-1]*n\n",
    "    r = random.randint(1,n-1)\n",
    "    for i in range(r):\n",
    "        child1[i] = P1[i]\n",
    "        child2[i] = P2[i]\n",
    "    j = r\n",
    "    while j < n:\n",
    "        for k in range(n):\n",
    "            if P2[k] not in child1:\n",
    "                child1[j] = P2[k]\n",
    "                j=j+1\n",
    "    j = r\n",
    "    while j < n:\n",
    "        for k in range(n):\n",
    "            if P1[k] not in child2:\n",
    "                child2[j] = P1[k]\n",
    "                j = j+1\n",
    "    return [child1,child2]"
   ]
  },
  {
   "cell_type": "code",
   "execution_count": 27,
   "metadata": {},
   "outputs": [],
   "source": [
    "def crossover3(P1,P2):\n",
    "    \"\"\"cut and cross-pattern\"\"\"\n",
    "    n = len(P1)\n",
    "    child1 = [-1]*n\n",
    "    child2 = [-1]*n\n",
    "    r = random.randint(1,n-1)\n",
    "    for i in range(r):\n",
    "        child1[i] = P1[i]\n",
    "        child2[i] = P2[i]\n",
    "    RO1 = relative_order(P1[r:])\n",
    "    RO2 = relative_order(P2[r:])\n",
    "    k = 0\n",
    "    for i in range(n):\n",
    "        if i not in child1:\n",
    "            child1[r+RO2.index(k)] = i\n",
    "            k = k+1\n",
    "    k=0\n",
    "    for i in range(n):\n",
    "        if i not in child2:\n",
    "            child2[r+RO1.index(k)] = i\n",
    "            k = k+1\n",
    "    return [child1,child2]"
   ]
  },
  {
   "cell_type": "code",
   "execution_count": 28,
   "metadata": {},
   "outputs": [],
   "source": [
    "def mut1(Perm,r1,r2):\n",
    "    \"\"\"helper function for mutation1\"\"\"\n",
    "    n = len(Perm)\n",
    "    output = [i for i in Perm]\n",
    "    if r1 == r2:\n",
    "        return(Perm)\n",
    "    output[r1+1]=Perm[r2]\n",
    "    for i in range(r1+2,r2+1):\n",
    "        output[i] = Perm[i-1]\n",
    "    return output\n",
    "\n",
    "\n",
    "def mutation1(Perm):\n",
    "    \"\"\"does a single random transposition to a permutation\"\"\"\n",
    "    n = len(Perm)\n",
    "    r1 = random.randint(0,n-1)\n",
    "    r2 = random.randint(0,n-1)\n",
    "    if r1<=r2:\n",
    "        return mut1(Perm,r1,r2)\n",
    "    else:\n",
    "        REV = [Perm[n-1-j] for j in range(n)]\n",
    "        output = mut1(REV,r2,r1)\n",
    "        return [output[n-1-j] for j in range(n)]"
   ]
  },
  {
   "cell_type": "code",
   "execution_count": null,
   "metadata": {},
   "outputs": [],
   "source": []
  },
  {
   "cell_type": "code",
   "execution_count": null,
   "metadata": {},
   "outputs": [],
   "source": []
  },
  {
   "cell_type": "code",
   "execution_count": null,
   "metadata": {},
   "outputs": [],
   "source": []
  },
  {
   "cell_type": "code",
   "execution_count": 41,
   "metadata": {},
   "outputs": [],
   "source": [
    "def Evolutionary_Algorithm_random_universality_231_strict(n,k,p,g,m,pp):\n",
    "    \"\"\"attempts to select the best n-length permutation based on how many different k-patterns are found\"\"\"\n",
    "    \"\"\"p is size of population, g is number of fitness evaluations until algorithm terminates, m is mutation rate, pp is the size of the 'parent pool' to select parents\"\"\"\n",
    "    #initialize population and compute fitness for each individual\n",
    "    POP = []\n",
    "    for j in range(p):\n",
    "        r = random.randint(0,np.math.factorial(n)-1)\n",
    "        P = unrank_permutation([i for i in range(n)],r)\n",
    "        (a,b) = count_different_231_avoiders_and_others(P,k)\n",
    "        fitness = (a/(b+0.1),a,b)\n",
    "        POP = POP + [[fitness,P]]\n",
    "    #sort initial population from most fit to least fit.\n",
    "    POP.sort()\n",
    "    POP.reverse()\n",
    "    #initialize a counter for the number of fitness evaluations\n",
    "    fe = 0\n",
    "    #start the loop\n",
    "    while(fe<g+1):\n",
    "        #randomly select pp individuals from the POPulation to form the parent pool\n",
    "        randomset = random.sample(POP,pp)\n",
    "        #select the top 2 from the parent pool to be parents and crossover\n",
    "        randomset.sort()\n",
    "        P1 = randomset[-1]\n",
    "        P2 = randomset[-2]\n",
    "        P3 = randomset[-3]\n",
    "        P4 = randomset[-4]\n",
    "        crossover_type = random.randint(1,3)\n",
    "        if crossover_type == 1:\n",
    "            child1 = crossover1(P1[1],P4[1])\n",
    "            child2 = crossover1(P2[1],P3[1])\n",
    "        if crossover_type == 2:\n",
    "            [child1,child2] = crossover2(P1[1],P2[1])\n",
    "        if crossover_type == 3:\n",
    "            [child1,child2] = crossover3(P1[1],P2[1])\n",
    "        (a,b) = count_different_231_avoiders_and_others(child1,k)\n",
    "        fitness1 = (a/(b+0.1),a,b)\n",
    "        (a,b) = count_different_231_avoiders_and_others(child2,k)\n",
    "        fitness2 = (a/(b+0.1),a,b)\n",
    "        fe = fe+2\n",
    "        #apply mutation to the offspring at a m mutation rate\n",
    "        mr = random.random()\n",
    "        while mr < m:\n",
    "            child1 = mutation1(child1)\n",
    "            child2 = mutation1(child2)\n",
    "            mr = random.random()\n",
    "        #compute fitness for each child and increment the fitness evaluation counter\n",
    "        (a,b) = count_different_231_avoiders_and_others(child1,k)\n",
    "        fitness1 = (a/(b+0.1),a,b)\n",
    "        (a,b) = count_different_231_avoiders_and_others(child2,k)\n",
    "        fitness2 = (a/(b+0.1),a,b)\n",
    "        fe = fe+2\n",
    "        #include the offspring into the population, resort and delete the 2 weakest individuals.\n",
    "        POP = POP + [[fitness1,child1]]\n",
    "        POP = POP + [[fitness2,child2]]\n",
    "        POP.sort()\n",
    "        POP.reverse()\n",
    "        POP = POP[:p]\n",
    "#        if fe % int(g/10) == 0:\n",
    "#            print([fe],[POP[0]],[POP[j][0] for j in range(10)],[POP[-1][0]])\n",
    "#            plot_permutation(POP[0][1])\n",
    "#            plt.show()\n",
    "    return POP"
   ]
  },
  {
   "cell_type": "code",
   "execution_count": 40,
   "metadata": {},
   "outputs": [
    {
     "name": "stdout",
     "output_type": "stream",
     "text": [
      "[1000] [[(530.0, 53, 0), [0, 8, 1, 6, 2, 4, 3, 5, 7, 9]]] [(530.0, 53, 0), (510.0, 51, 0), (460.0, 46, 0), (440.0, 44, 0), (420.0, 42, 0), (420.0, 42, 0), (420.0, 42, 0), (410.0, 41, 0), (400.0, 40, 0), (390.0, 39, 0)] [(0.05614823133071308, 10, 178)]\n"
     ]
    },
    {
     "data": {
      "image/png": "[encoded data removed]",
      "text/plain": [
       "<Figure size 432x288 with 1 Axes>"
      ]
     },
     "metadata": {
      "needs_background": "light"
     },
     "output_type": "display_data"
    },
    {
     "name": "stdout",
     "output_type": "stream",
     "text": [
      "[2000] [[(530.0, 53, 0), [0, 8, 1, 6, 2, 4, 3, 5, 7, 9]]] [(530.0, 53, 0), (510.0, 51, 0), (470.0, 47, 0), (460.0, 46, 0), (460.0, 46, 0), (450.0, 45, 0), (440.0, 44, 0), (440.0, 44, 0), (430.0, 43, 0), (430.0, 43, 0)] [(0.10668163952835485, 19, 178)]\n"
     ]
    },
    {
     "data": {
      "image/png": "[encoded data removed]",
      "text/plain": [
       "<Figure size 432x288 with 1 Axes>"
      ]
     },
     "metadata": {
      "needs_background": "light"
     },
     "output_type": "display_data"
    },
    {
     "name": "stdout",
     "output_type": "stream",
     "text": [
      "[3000] [[(530.0, 53, 0), [0, 8, 1, 6, 2, 4, 3, 5, 7, 9]]] [(530.0, 53, 0), (510.0, 51, 0), (470.0, 47, 0), (460.0, 46, 0), (460.0, 46, 0), (460.0, 46, 0), (460.0, 46, 0), (460.0, 46, 0), (450.0, 45, 0), (450.0, 45, 0)] [(0.1698236446766819, 26, 153)]\n"
     ]
    },
    {
     "data": {
      "image/png": "[encoded data removed]",
      "text/plain": [
       "<Figure size 432x288 with 1 Axes>"
      ]
     },
     "metadata": {
      "needs_background": "light"
     },
     "output_type": "display_data"
    },
    {
     "name": "stdout",
     "output_type": "stream",
     "text": [
      "[4000] [[(560.0, 56, 0), [9, 0, 7, 3, 1, 2, 6, 4, 5, 8]]] [(560.0, 56, 0), (560.0, 56, 0), (530.0, 53, 0), (510.0, 51, 0), (510.0, 51, 0), (510.0, 51, 0), (510.0, 51, 0), (500.0, 50, 0), (500.0, 50, 0), (500.0, 50, 0)] [(0.2543142597638511, 28, 110)]\n"
     ]
    },
    {
     "data": {
      "image/png": "[encoded data removed]",
      "text/plain": [
       "<Figure size 432x288 with 1 Axes>"
      ]
     },
     "metadata": {
      "needs_background": "light"
     },
     "output_type": "display_data"
    },
    {
     "name": "stdout",
     "output_type": "stream",
     "text": [
      "[5000] [[(560.0, 56, 0), [9, 0, 7, 3, 1, 2, 6, 4, 5, 8]]] [(560.0, 56, 0), (560.0, 56, 0), (560.0, 56, 0), (540.0, 54, 0), (540.0, 54, 0), (540.0, 54, 0), (530.0, 53, 0), (530.0, 53, 0), (510.0, 51, 0), (510.0, 51, 0)] [(0.3423680456490728, 24, 70)]\n"
     ]
    },
    {
     "data": {
      "image/png": "[encoded data removed]",
      "text/plain": [
       "<Figure size 432x288 with 1 Axes>"
      ]
     },
     "metadata": {
      "needs_background": "light"
     },
     "output_type": "display_data"
    },
    {
     "name": "stdout",
     "output_type": "stream",
     "text": [
      "[6000] [[(560.0, 56, 0), [9, 0, 7, 3, 1, 2, 6, 4, 5, 8]]] [(560.0, 56, 0), (560.0, 56, 0), (560.0, 56, 0), (560.0, 56, 0), (560.0, 56, 0), (560.0, 56, 0), (560.0, 56, 0), (560.0, 56, 0), (540.0, 54, 0), (540.0, 54, 0)] [(0.4761904761904762, 31, 65)]\n"
     ]
    },
    {
     "data": {
      "image/png": "[encoded data removed]",
      "text/plain": [
       "<Figure size 432x288 with 1 Axes>"
      ]
     },
     "metadata": {
      "needs_background": "light"
     },
     "output_type": "display_data"
    },
    {
     "name": "stdout",
     "output_type": "stream",
     "text": [
      "[7000] [[(570.0, 57, 0), [9, 0, 7, 4, 1, 3, 2, 6, 5, 8]]] [(570.0, 57, 0), (560.0, 56, 0), (560.0, 56, 0), (560.0, 56, 0), (560.0, 56, 0), (560.0, 56, 0), (560.0, 56, 0), (560.0, 56, 0), (560.0, 56, 0), (560.0, 56, 0)] [(0.617059891107078, 34, 55)]\n"
     ]
    },
    {
     "data": {
      "image/png": "[encoded data removed]",
      "text/plain": [
       "<Figure size 432x288 with 1 Axes>"
      ]
     },
     "metadata": {
      "needs_background": "light"
     },
     "output_type": "display_data"
    },
    {
     "name": "stdout",
     "output_type": "stream",
     "text": [
      "[8000] [[(570.0, 57, 0), [9, 0, 7, 4, 1, 3, 2, 6, 5, 8]]] [(570.0, 57, 0), (570.0, 57, 0), (570.0, 57, 0), (570.0, 57, 0), (560.0, 56, 0), (560.0, 56, 0), (560.0, 56, 0), (560.0, 56, 0), (560.0, 56, 0), (560.0, 56, 0)] [(0.8711433756805808, 48, 55)]\n"
     ]
    },
    {
     "data": {
      "image/png": "[encoded data removed]",
      "text/plain": [
       "<Figure size 432x288 with 1 Axes>"
      ]
     },
     "metadata": {
      "needs_background": "light"
     },
     "output_type": "display_data"
    },
    {
     "name": "stdout",
     "output_type": "stream",
     "text": [
      "[9000] [[(570.0, 57, 0), [9, 0, 7, 4, 1, 3, 2, 6, 5, 8]]] [(570.0, 57, 0), (570.0, 57, 0), (570.0, 57, 0), (570.0, 57, 0), (570.0, 57, 0), (560.0, 56, 0), (560.0, 56, 0), (560.0, 56, 0), (560.0, 56, 0), (560.0, 56, 0)] [(1.3675213675213675, 48, 35)]\n"
     ]
    },
    {
     "data": {
      "image/png": "[encoded data removed]",
      "text/plain": [
       "<Figure size 432x288 with 1 Axes>"
      ]
     },
     "metadata": {
      "needs_background": "light"
     },
     "output_type": "display_data"
    },
    {
     "name": "stdout",
     "output_type": "stream",
     "text": [
      "[10000] [[(570.0, 57, 0), [9, 0, 7, 4, 1, 3, 2, 6, 5, 8]]] [(570.0, 57, 0), (570.0, 57, 0), (570.0, 57, 0), (570.0, 57, 0), (570.0, 57, 0), (570.0, 57, 0), (570.0, 57, 0), (570.0, 57, 0), (570.0, 57, 0), (570.0, 57, 0)] [(230.0, 23, 0)]\n"
     ]
    },
    {
     "data": {
      "image/png": "[encoded data removed]",
      "text/plain": [
       "<Figure size 432x288 with 1 Axes>"
      ]
     },
     "metadata": {
      "needs_background": "light"
     },
     "output_type": "display_data"
    }
   ],
   "source": [
    "EA = Evolutionary_Algorithm_random_universality_231_strict(10,6,1000,10000,0.8,25)"
   ]
  },
  {
   "cell_type": "code",
   "execution_count": null,
   "metadata": {},
   "outputs": [],
   "source": []
  },
  {
   "cell_type": "markdown",
   "metadata": {},
   "source": [
    "\n"
   ]
  },
  {
   "cell_type": "code",
   "execution_count": 42,
   "metadata": {},
   "outputs": [],
   "source": [
    "U = [[0]*20 for i in range(20)]"
   ]
  },
  {
   "cell_type": "code",
   "execution_count": 43,
   "metadata": {},
   "outputs": [
    {
     "name": "stdout",
     "output_type": "stream",
     "text": [
      "1.0 (1, 1)\n",
      "1.0 (1, 2)\n",
      "1.0 (1, 3)\n",
      "1.0 (1, 4)\n",
      "1.0 (1, 5)\n",
      "1.0 (1, 6)\n",
      "1.0 (1, 7)\n",
      "1.0 (1, 8)\n",
      "1.0 (1, 9)\n",
      "1.0 (1, 10)\n",
      "1.0 (1, 11)\n",
      "1.0 (1, 12)\n",
      "1.0 (1, 13)\n",
      "2.0 (2, 1)\n",
      "2.0 (2, 2)\n",
      "2.0 (2, 3)\n",
      "2.0 (2, 4)\n",
      "2.0 (2, 5)\n",
      "2.0 (2, 6)\n",
      "2.0 (2, 7)\n",
      "2.0 (2, 8)\n",
      "2.0 (2, 9)\n",
      "2.0 (2, 10)\n",
      "2.0 (2, 11)\n",
      "2.0 (2, 12)\n",
      "2.0 (2, 13)\n",
      "3.0 (3, 1)\n",
      "5.0 (3, 2)\n",
      "5.0 (3, 3)\n",
      "5.0 (3, 4)\n",
      "5.0 (3, 5)\n",
      "5.0 (3, 6)\n",
      "5.0 (3, 7)\n",
      "5.0 (3, 8)\n",
      "5.0 (3, 9)\n",
      "5.0 (3, 10)\n",
      "5.0 (3, 11)\n",
      "5.0 (3, 12)\n",
      "5.0 (3, 13)\n",
      "4.0 (4, 1)\n",
      "8.0 (4, 2)\n",
      "12.0 (4, 3)\n",
      "14.0 (4, 4)\n",
      "14.0 (4, 5)\n",
      "14.0 (4, 6)\n",
      "14.0 (4, 7)\n",
      "14.0 (4, 8)\n",
      "14.0 (4, 9)\n",
      "14.0 (4, 10)\n",
      "14.0 (4, 11)\n",
      "14.0 (4, 12)\n",
      "14.0 (4, 13)\n",
      "5.0 (5, 1)\n",
      "13.0 (5, 2)\n",
      "22.0 (5, 3)\n",
      "31.0 (5, 4)\n",
      "38.0 (5, 5)\n",
      "40.0 (5, 6)\n",
      "42.0 (5, 7)\n",
      "42.0 (5, 8)\n",
      "42.0 (5, 9)\n",
      "42.0 (5, 10)\n",
      "42.0 (5, 11)\n",
      "42.0 (5, 12)\n",
      "42.0 (5, 13)\n",
      "6.0 (6, 1)\n",
      "18.0 (6, 2)\n",
      "38.0 (6, 3)\n",
      "56.0 (6, 4)\n",
      "81.0 (6, 5)\n",
      "93.0 (6, 6)\n",
      "102.0 (6, 7)\n",
      "117.0 (6, 8)\n",
      "128.0 (6, 9)\n",
      "125.0 (6, 10)\n",
      "121.0 (6, 11)\n",
      "124.0 (6, 12)\n",
      "126.0 (6, 13)\n",
      "7.0 (7, 1)\n",
      "25.0 (7, 2)\n",
      "58.0 (7, 3)\n",
      "95.0 (7, 4)\n",
      "137.0 (7, 5)\n",
      "200.0 (7, 6)\n",
      "250.0 (7, 7)\n",
      "285.0 (7, 8)\n",
      "286.0 (7, 9)\n",
      "312.0 (7, 10)\n",
      "375.0 (7, 11)\n",
      "346.0 (7, 12)\n",
      "328.0 (7, 13)\n",
      "8.0 (8, 1)\n",
      "31.0 (8, 2)\n",
      "82.0 (8, 3)\n",
      "175.0 (8, 4)\n",
      "262.0 (8, 5)\n",
      "384.0 (8, 6)\n",
      "516.0 (8, 7)\n",
      "603.0 (8, 8)\n",
      "669.0 (8, 9)\n",
      "850.0 (8, 10)\n",
      "937.0 (8, 11)\n",
      "873.0 (8, 12)\n",
      "1058.0 (8, 13)\n",
      "9.0 (9, 1)\n",
      "40.0 (9, 2)\n",
      "121.0 (9, 3)\n",
      "232.0 (9, 4)\n",
      "492.0 (9, 5)\n",
      "612.0 (9, 6)\n",
      "1014.0 (9, 7)\n",
      "1322.0 (9, 8)\n",
      "1717.0 (9, 9)\n",
      "1521.0 (9, 10)\n",
      "2360.0 (9, 11)\n",
      "2064.0 (9, 12)\n",
      "2861.0 (9, 13)\n",
      "10.0 (10, 1)\n",
      "44.0 (10, 2)\n",
      "163.0 (10, 3)\n",
      "303.0 (10, 4)\n",
      "636.0 (10, 5)\n",
      "1006.0 (10, 6)\n",
      "1845.0 (10, 7)\n",
      "2723.0 (10, 8)\n",
      "3308.0 (10, 9)\n",
      "3335.0 (10, 10)\n",
      "3655.0 (10, 11)\n",
      "6312.0 (10, 12)\n",
      "0.007684458611379499 (10, 13)\n",
      "10.0 (11, 1)\n",
      "60.0 (11, 2)\n",
      "174.0 (11, 3)\n",
      "445.0 (11, 4)\n",
      "942.0 (11, 5)\n",
      "1590.0 (11, 6)\n",
      "2795.0 (11, 7)\n",
      "3210.0 (11, 8)\n",
      "6141.0 (11, 9)\n"
     ]
    },
    {
     "ename": "KeyboardInterrupt",
     "evalue": "",
     "output_type": "error",
     "traceback": [
      "\u001b[1;31m---------------------------------------------------------------------------\u001b[0m",
      "\u001b[1;31mKeyboardInterrupt\u001b[0m                         Traceback (most recent call last)",
      "\u001b[1;32m<ipython-input-43-05eb4912538e>\u001b[0m in \u001b[0;36m<module>\u001b[1;34m\u001b[0m\n\u001b[0;32m      2\u001b[0m     \u001b[1;32mfor\u001b[0m \u001b[0mk\u001b[0m \u001b[1;32min\u001b[0m \u001b[0mrange\u001b[0m\u001b[1;33m(\u001b[0m\u001b[1;36m1\u001b[0m\u001b[1;33m,\u001b[0m\u001b[1;36m14\u001b[0m\u001b[1;33m)\u001b[0m\u001b[1;33m:\u001b[0m\u001b[1;33m\u001b[0m\u001b[1;33m\u001b[0m\u001b[0m\n\u001b[0;32m      3\u001b[0m         \u001b[0mn\u001b[0m \u001b[1;33m=\u001b[0m \u001b[0mk\u001b[0m\u001b[1;33m+\u001b[0m\u001b[0mm\u001b[0m\u001b[1;33m\u001b[0m\u001b[1;33m\u001b[0m\u001b[0m\n\u001b[1;32m----> 4\u001b[1;33m         \u001b[0mEA\u001b[0m \u001b[1;33m=\u001b[0m \u001b[0mEvolutionary_Algorithm_random_universality_231_strict\u001b[0m\u001b[1;33m(\u001b[0m\u001b[0mn\u001b[0m\u001b[1;33m,\u001b[0m\u001b[0mm\u001b[0m\u001b[1;33m,\u001b[0m\u001b[1;36m1000\u001b[0m\u001b[1;33m,\u001b[0m\u001b[1;36m10000\u001b[0m\u001b[1;33m,\u001b[0m\u001b[1;36m0.8\u001b[0m\u001b[1;33m,\u001b[0m\u001b[1;36m25\u001b[0m\u001b[1;33m)\u001b[0m\u001b[1;33m\u001b[0m\u001b[1;33m\u001b[0m\u001b[0m\n\u001b[0m\u001b[0;32m      5\u001b[0m         \u001b[0mU\u001b[0m\u001b[1;33m[\u001b[0m\u001b[0mm\u001b[0m\u001b[1;33m]\u001b[0m\u001b[1;33m[\u001b[0m\u001b[0mk\u001b[0m\u001b[1;33m]\u001b[0m \u001b[1;33m=\u001b[0m \u001b[0mEA\u001b[0m\u001b[1;33m[\u001b[0m\u001b[1;36m0\u001b[0m\u001b[1;33m]\u001b[0m\u001b[1;33m[\u001b[0m\u001b[1;36m0\u001b[0m\u001b[1;33m]\u001b[0m\u001b[1;33m\u001b[0m\u001b[1;33m\u001b[0m\u001b[0m\n\u001b[0;32m      6\u001b[0m         \u001b[0mprint\u001b[0m\u001b[1;33m(\u001b[0m\u001b[0mU\u001b[0m\u001b[1;33m[\u001b[0m\u001b[0mm\u001b[0m\u001b[1;33m]\u001b[0m\u001b[1;33m[\u001b[0m\u001b[0mk\u001b[0m\u001b[1;33m]\u001b[0m\u001b[1;33m[\u001b[0m\u001b[1;36m0\u001b[0m\u001b[1;33m]\u001b[0m\u001b[1;33m/\u001b[0m\u001b[1;36m10\u001b[0m\u001b[1;33m,\u001b[0m\u001b[1;33m(\u001b[0m\u001b[0mm\u001b[0m\u001b[1;33m,\u001b[0m\u001b[0mk\u001b[0m\u001b[1;33m)\u001b[0m\u001b[1;33m)\u001b[0m\u001b[1;33m\u001b[0m\u001b[1;33m\u001b[0m\u001b[0m\n",
      "\u001b[1;32m<ipython-input-41-4557914ac1b4>\u001b[0m in \u001b[0;36mEvolutionary_Algorithm_random_universality_231_strict\u001b[1;34m(n, k, p, g, m, pp)\u001b[0m\n\u001b[0;32m     45\u001b[0m             \u001b[0mmr\u001b[0m \u001b[1;33m=\u001b[0m \u001b[0mrandom\u001b[0m\u001b[1;33m.\u001b[0m\u001b[0mrandom\u001b[0m\u001b[1;33m(\u001b[0m\u001b[1;33m)\u001b[0m\u001b[1;33m\u001b[0m\u001b[1;33m\u001b[0m\u001b[0m\n\u001b[0;32m     46\u001b[0m         \u001b[1;31m#compute fitness for each child and increment the fitness evaluation counter\u001b[0m\u001b[1;33m\u001b[0m\u001b[1;33m\u001b[0m\u001b[1;33m\u001b[0m\u001b[0m\n\u001b[1;32m---> 47\u001b[1;33m         \u001b[1;33m(\u001b[0m\u001b[0ma\u001b[0m\u001b[1;33m,\u001b[0m\u001b[0mb\u001b[0m\u001b[1;33m)\u001b[0m \u001b[1;33m=\u001b[0m \u001b[0mcount_different_231_avoiders_and_others\u001b[0m\u001b[1;33m(\u001b[0m\u001b[0mchild1\u001b[0m\u001b[1;33m,\u001b[0m\u001b[0mk\u001b[0m\u001b[1;33m)\u001b[0m\u001b[1;33m\u001b[0m\u001b[1;33m\u001b[0m\u001b[0m\n\u001b[0m\u001b[0;32m     48\u001b[0m         \u001b[0mfitness1\u001b[0m \u001b[1;33m=\u001b[0m \u001b[1;33m(\u001b[0m\u001b[0ma\u001b[0m\u001b[1;33m/\u001b[0m\u001b[1;33m(\u001b[0m\u001b[0mb\u001b[0m\u001b[1;33m+\u001b[0m\u001b[1;36m0.1\u001b[0m\u001b[1;33m)\u001b[0m\u001b[1;33m,\u001b[0m\u001b[0ma\u001b[0m\u001b[1;33m,\u001b[0m\u001b[0mb\u001b[0m\u001b[1;33m)\u001b[0m\u001b[1;33m\u001b[0m\u001b[1;33m\u001b[0m\u001b[0m\n\u001b[0;32m     49\u001b[0m         \u001b[1;33m(\u001b[0m\u001b[0ma\u001b[0m\u001b[1;33m,\u001b[0m\u001b[0mb\u001b[0m\u001b[1;33m)\u001b[0m \u001b[1;33m=\u001b[0m \u001b[0mcount_different_231_avoiders_and_others\u001b[0m\u001b[1;33m(\u001b[0m\u001b[0mchild2\u001b[0m\u001b[1;33m,\u001b[0m\u001b[0mk\u001b[0m\u001b[1;33m)\u001b[0m\u001b[1;33m\u001b[0m\u001b[1;33m\u001b[0m\u001b[0m\n",
      "\u001b[1;32m<ipython-input-32-5aecad45a4c0>\u001b[0m in \u001b[0;36mcount_different_231_avoiders_and_others\u001b[1;34m(P, k)\u001b[0m\n\u001b[0;32m     11\u001b[0m         \u001b[1;32mfor\u001b[0m \u001b[0mj\u001b[0m \u001b[1;32min\u001b[0m \u001b[0mrange\u001b[0m\u001b[1;33m(\u001b[0m\u001b[0mn\u001b[0m\u001b[1;33m)\u001b[0m\u001b[1;33m:\u001b[0m\u001b[1;33m\u001b[0m\u001b[1;33m\u001b[0m\u001b[0m\n\u001b[0;32m     12\u001b[0m             \u001b[1;32mif\u001b[0m \u001b[0mfbs\u001b[0m\u001b[1;33m[\u001b[0m\u001b[0mj\u001b[0m\u001b[1;33m]\u001b[0m \u001b[1;33m==\u001b[0m \u001b[1;34m\"1\"\u001b[0m\u001b[1;33m:\u001b[0m\u001b[1;33m\u001b[0m\u001b[1;33m\u001b[0m\u001b[0m\n\u001b[1;32m---> 13\u001b[1;33m                 \u001b[0mrel_order\u001b[0m \u001b[1;33m=\u001b[0m \u001b[0mrel_order\u001b[0m \u001b[1;33m+\u001b[0m \u001b[1;33m[\u001b[0m\u001b[0mP\u001b[0m\u001b[1;33m[\u001b[0m\u001b[0mj\u001b[0m\u001b[1;33m]\u001b[0m\u001b[1;33m]\u001b[0m\u001b[1;33m\u001b[0m\u001b[1;33m\u001b[0m\u001b[0m\n\u001b[0m\u001b[0;32m     14\u001b[0m         \u001b[0mRO\u001b[0m \u001b[1;33m=\u001b[0m \u001b[0mstr\u001b[0m\u001b[1;33m(\u001b[0m\u001b[0mrelative_order\u001b[0m\u001b[1;33m(\u001b[0m\u001b[0mrel_order\u001b[0m\u001b[1;33m)\u001b[0m\u001b[1;33m)\u001b[0m\u001b[1;33m\u001b[0m\u001b[1;33m\u001b[0m\u001b[0m\n\u001b[0;32m     15\u001b[0m         \u001b[1;32mif\u001b[0m \u001b[0mavoids_231\u001b[0m\u001b[1;33m(\u001b[0m\u001b[0mrel_order\u001b[0m\u001b[1;33m)\u001b[0m\u001b[1;33m:\u001b[0m\u001b[1;33m\u001b[0m\u001b[1;33m\u001b[0m\u001b[0m\n",
      "\u001b[1;31mKeyboardInterrupt\u001b[0m: "
     ]
    }
   ],
   "source": [
    "for m in range(1,14):\n",
    "    for k in range(1,14):\n",
    "        n = k+m\n",
    "        EA = Evolutionary_Algorithm_random_universality_231_strict(n,m,1000,10000,0.8,25)\n",
    "        U[m][k] = EA[0][0]\n",
    "        print(U[m][k][0]/10,(m,k))"
   ]
  },
  {
   "cell_type": "code",
   "execution_count": null,
   "metadata": {},
   "outputs": [],
   "source": []
  }
 ],
 "metadata": {
  "kernelspec": {
   "display_name": "Python 3",
   "language": "python",
   "name": "python3"
  },
  "language_info": {
   "codemirror_mode": {
    "name": "ipython",
    "version": 3
   },
   "file_extension": ".py",
   "mimetype": "text/x-python",
   "name": "python",
   "nbconvert_exporter": "python",
   "pygments_lexer": "ipython3",
   "version": "3.7.4"
  }
 },
 "nbformat": 4,
 "nbformat_minor": 2
}
