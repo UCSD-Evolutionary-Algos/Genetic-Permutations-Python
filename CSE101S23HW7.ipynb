{
 "cells": [
  {
   "cell_type": "code",
   "execution_count": 25,
   "metadata": {},
   "outputs": [],
   "source": [
    "def BATTERY(C,P):\n",
    "    n = len(C)-1\n",
    "    A = [0]*(n+1)\n",
    "    PREV = [-1]*(n+1)\n",
    "    A[n] = 0\n",
    "    PREV[n] = n+1\n",
    "    for t in range(1,n+1):\n",
    "        k = n-t\n",
    "        if k + C[k] >= n+1:\n",
    "            A[k] = 0\n",
    "            PREV[k] = n+1\n",
    "        else:\n",
    "            A[k] = 2**50\n",
    "            for i in range(k+1,k+C[k] + 1):\n",
    "                if A[k] > A[i] + P[k]:\n",
    "                    A[k] = A[i] + P[k]\n",
    "                    PREV[k] = i\n",
    "    return (A,PREV)"
   ]
  },
  {
   "cell_type": "code",
   "execution_count": 23,
   "metadata": {},
   "outputs": [],
   "source": [
    "import random"
   ]
  },
  {
   "cell_type": "code",
   "execution_count": 5,
   "metadata": {},
   "outputs": [
    {
     "name": "stdout",
     "output_type": "stream",
     "text": [
      "[3, 1, 6, 2, 2, 4, 6, 6, 6, 6, 3, 5, 2, 2, 4]\n"
     ]
    }
   ],
   "source": [
    "C = [random.randint(1,6) for i in range(15)]\n",
    "print(C)"
   ]
  },
  {
   "cell_type": "code",
   "execution_count": 18,
   "metadata": {},
   "outputs": [
    {
     "name": "stdout",
     "output_type": "stream",
     "text": [
      "[831, 207, 646, 456, 871, 337, 313, 704, 635, 459, 740, 829, 37, 282, 721]\n",
      "[0, 55, 80, 76, 5, 29, 56, 93, 47, 49, 26, 78, 31, 13, 49]\n"
     ]
    }
   ],
   "source": [
    "P = [random.randint(1,1000) for i in range(15)]\n",
    "print(P)\n",
    "P = [0,55,80,76,5,29,56,93,47,49,26,78,31,13,49]\n",
    "print(P)"
   ]
  },
  {
   "cell_type": "code",
   "execution_count": 27,
   "metadata": {},
   "outputs": [
    {
     "name": "stdout",
     "output_type": "stream",
     "text": [
      "([105, 164, 109, 105, 34, 29, 56, 93, 47, 0, 26, 0, 31, 0, 0], [3, 2, 5, 5, 5, 9, 9, 9, 9, 15, 11, 15, 13, 15, 15])\n",
      "[3, 1, 6, 2, 2, 4, 6, 6, 6, 6, 3, 5, 2, 2, 4]\n",
      "[0, 55, 80, 76, 5, 29, 56, 93, 47, 49, 26, 78, 31, 13, 49]\n"
     ]
    }
   ],
   "source": [
    "print(BATTERY(C,P))\n",
    "print(C)\n",
    "print(P)"
   ]
  },
  {
   "cell_type": "code",
   "execution_count": 29,
   "metadata": {},
   "outputs": [
    {
     "name": "stdout",
     "output_type": "stream",
     "text": [
      "[3, 3, 2, 1, 3, 3, 4, 4, 1, 4, 2, 2, 2, 2, 3]\n",
      "[5, 5, 7, 5, 6, 9, 3, 10, 4, 2, 6, 1, 5, 10, 3]\n"
     ]
    }
   ],
   "source": [
    "W = [random.randint(1,4) for i in range(15)]\n",
    "print(W)\n",
    "H = [random.randint(1,10) for i in range(15)]\n",
    "print(H)"
   ]
  },
  {
   "cell_type": "code",
   "execution_count": 35,
   "metadata": {},
   "outputs": [],
   "source": [
    "def Library(hlist,wlist,W):\n",
    "    \"\"\"hlist and wlist are 1-indexed\"\"\"\n",
    "    n = len(hlist) - 1\n",
    "    L = [2**20]*(n+1)\n",
    "    Prev = [0]*(n+1)\n",
    "    L[0] = 0\n",
    "    for i in range(1,n+1):\n",
    "        S = wlist[i]\n",
    "        H = 0\n",
    "        j = 0\n",
    "        while S <= W and i-j>0:\n",
    "            H = max(H,hlist[i-j])\n",
    "            B = L[i-j-1] + H\n",
    "            if L[i] > B:\n",
    "                L[i] = B\n",
    "                Prev[i] = i-j-1\n",
    "            j = j+1\n",
    "            S = S + wlist[i-j]\n",
    "    return ([x for x in range(n+1)],L,Prev)"
   ]
  },
  {
   "cell_type": "code",
   "execution_count": 42,
   "metadata": {},
   "outputs": [
    {
     "data": {
      "text/plain": [
       "([0, 1, 2, 3, 4, 5, 6, 7, 8, 9, 10, 11, 12, 13, 14, 15],\n",
       " [0, 4, 7, 7, 7, 8, 14, 15, 15, 21, 22, 22, 28, 29, 30, 36],\n",
       " [0, 0, 0, 0, 0, 0, 5, 5, 5, 6, 8, 8, 9, 11, 11, 12])"
      ]
     },
     "execution_count": 42,
     "metadata": {},
     "output_type": "execute_result"
    }
   ],
   "source": [
    "Library([0,4,7,7,5,8,6,7,5,7,5,6,7,4,8,8],[0,2,2,2,1,3,4,1,3,4,4,1,2,4,1,4],10)"
   ]
  },
  {
   "cell_type": "code",
   "execution_count": 38,
   "metadata": {},
   "outputs": [
    {
     "data": {
      "text/plain": [
       "([0, 1, 2, 3, 4, 5, 6, 7, 8, 9, 10, 11, 12, 13, 14, 15],\n",
       " [0, 4, 7, 7, 7, 8, 8, 12, 15, 15, 15, 15, 19, 22, 23, 23],\n",
       " [0, 0, 0, 0, 0, 0, 0, 1, 6, 6, 6, 6, 7, 11, 11, 11])"
      ]
     },
     "execution_count": 38,
     "metadata": {},
     "output_type": "execute_result"
    }
   ],
   "source": [
    "Library([0,4,7,7,5,8,6,7,5,7,5,6,7,4,8,8],[0,2,2,2,1,3,4,1,3,4,4,1,2,4,1,4],14)"
   ]
  },
  {
   "cell_type": "code",
   "execution_count": 41,
   "metadata": {},
   "outputs": [
    {
     "data": {
      "text/plain": [
       "([0, 1, 2, 3, 4, 5, 6, 7, 8, 9, 10, 11, 12, 13, 14, 15],\n",
       " [0, 4, 7, 7, 7, 8, 8, 8, 8, 12, 15, 15, 15, 15, 16, 16],\n",
       " [0, 0, 0, 0, 0, 0, 0, 0, 0, 1, 8, 8, 8, 8, 8, 8])"
      ]
     },
     "execution_count": 41,
     "metadata": {},
     "output_type": "execute_result"
    }
   ],
   "source": [
    "Library([0,4,7,7,5,8,6,7,5,7,5,6,7,4,8,8],[0,2,2,2,1,3,4,1,3,4,4,1,2,4,1,4],20)"
   ]
  },
  {
   "cell_type": "code",
   "execution_count": null,
   "metadata": {},
   "outputs": [],
   "source": []
  }
 ],
 "metadata": {
  "kernelspec": {
   "display_name": "Python 3",
   "language": "python",
   "name": "python3"
  },
  "language_info": {
   "codemirror_mode": {
    "name": "ipython",
    "version": 3
   },
   "file_extension": ".py",
   "mimetype": "text/x-python",
   "name": "python",
   "nbconvert_exporter": "python",
   "pygments_lexer": "ipython3",
   "version": "3.7.4"
  }
 },
 "nbformat": 4,
 "nbformat_minor": 2
}
