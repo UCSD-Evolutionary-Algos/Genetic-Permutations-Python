{
 "cells": [
  {
   "cell_type": "code",
   "execution_count": 1,
   "metadata": {},
   "outputs": [],
   "source": [
    "import numpy as np\n",
    "import random\n",
    "import matplotlib.pyplot as plt\n",
    "from collections import defaultdict\n",
    "import scipy.special"
   ]
  },
  {
   "cell_type": "code",
   "execution_count": 12,
   "metadata": {},
   "outputs": [
    {
     "name": "stdout",
     "output_type": "stream",
     "text": [
      "Collecting permpy\n",
      "  Downloading https://files.pythonhosted.org/packages/fd/71/b81bc3511f5af999f3bbf49152a63dd771c6de4a5503763c3f70188e3e72/permpy-0.2.12-py3-none-any.whl (42kB)\n",
      "Collecting pytest<8.0.0,>=7.1.2 (from permpy)\n",
      "  Downloading https://files.pythonhosted.org/packages/f3/8c/f16efd81ca8e293b2cc78f111190a79ee539d0d5d36ccd49975cb3beac60/pytest-7.4.3-py3-none-any.whl (325kB)\n",
      "Requirement already satisfied: colorama; sys_platform == \"win32\" in c:\\users\\mizej\\anaconda3\\lib\\site-packages (from pytest<8.0.0,>=7.1.2->permpy) (0.4.1)\n",
      "Requirement already satisfied: importlib-metadata>=0.12; python_version < \"3.8\" in c:\\users\\mizej\\anaconda3\\lib\\site-packages (from pytest<8.0.0,>=7.1.2->permpy) (0.23)\n",
      "Collecting iniconfig (from pytest<8.0.0,>=7.1.2->permpy)\n",
      "  Downloading https://files.pythonhosted.org/packages/ef/a6/62565a6e1cf69e10f5727360368e451d4b7f58beeac6173dc9db836a5b46/iniconfig-2.0.0-py3-none-any.whl\n",
      "Requirement already satisfied: pluggy<2.0,>=0.12 in c:\\users\\mizej\\anaconda3\\lib\\site-packages (from pytest<8.0.0,>=7.1.2->permpy) (0.13.0)\n",
      "Collecting exceptiongroup>=1.0.0rc8; python_version < \"3.11\" (from pytest<8.0.0,>=7.1.2->permpy)\n",
      "  Downloading https://files.pythonhosted.org/packages/b8/9a/5028fd52db10e600f1c4674441b968cf2ea4959085bfb5b99fb1250e5f68/exceptiongroup-1.2.0-py3-none-any.whl\n",
      "Requirement already satisfied: packaging in c:\\users\\mizej\\anaconda3\\lib\\site-packages (from pytest<8.0.0,>=7.1.2->permpy) (19.2)\n",
      "Collecting tomli>=1.0.0; python_version < \"3.11\" (from pytest<8.0.0,>=7.1.2->permpy)\n",
      "  Downloading https://files.pythonhosted.org/packages/97/75/10a9ebee3fd790d20926a90a2547f0bf78f371b2f13aa822c759680ca7b9/tomli-2.0.1-py3-none-any.whl\n",
      "Requirement already satisfied: zipp>=0.5 in c:\\users\\mizej\\anaconda3\\lib\\site-packages (from importlib-metadata>=0.12; python_version < \"3.8\"->pytest<8.0.0,>=7.1.2->permpy) (0.6.0)\n",
      "Requirement already satisfied: six in c:\\users\\mizej\\anaconda3\\lib\\site-packages (from packaging->pytest<8.0.0,>=7.1.2->permpy) (1.12.0)\n",
      "Requirement already satisfied: pyparsing>=2.0.2 in c:\\users\\mizej\\anaconda3\\lib\\site-packages (from packaging->pytest<8.0.0,>=7.1.2->permpy) (2.4.2)\n",
      "Requirement already satisfied: more-itertools in c:\\users\\mizej\\anaconda3\\lib\\site-packages (from zipp>=0.5->importlib-metadata>=0.12; python_version < \"3.8\"->pytest<8.0.0,>=7.1.2->permpy) (7.2.0)\n",
      "Installing collected packages: iniconfig, exceptiongroup, tomli, pytest, permpy\n",
      "  Found existing installation: pytest 5.2.1\n",
      "    Uninstalling pytest-5.2.1:\n",
      "      Successfully uninstalled pytest-5.2.1\n",
      "Successfully installed exceptiongroup-1.2.0 iniconfig-2.0.0 permpy-0.2.12 pytest-7.4.3 tomli-2.0.1\n",
      "Note: you may need to restart the kernel to use updated packages.\n"
     ]
    }
   ],
   "source": [
    "pip install permpy"
   ]
  },
  {
   "cell_type": "code",
   "execution_count": 2,
   "metadata": {},
   "outputs": [],
   "source": [
    "def plot_permutation(P):\n",
    "    n = len(P)\n",
    "    x_values = [i for i in range(n)]\n",
    "    y_values = P\n",
    "    plt.scatter(x_values,y_values, label = str(P))"
   ]
  },
  {
   "cell_type": "code",
   "execution_count": 3,
   "metadata": {},
   "outputs": [],
   "source": [
    "def unrank_permutation(n_list,d):\n",
    "    n = len(n_list)\n",
    "    nn_list = [h for h in n_list]\n",
    "    if d == 0:\n",
    "        return nn_list\n",
    "    for k in range(n):\n",
    "        if d < (k+1)*np.math.factorial(n-1):\n",
    "            nn_list.remove(n_list[k])\n",
    "            return [n_list[k]] + unrank_permutation(nn_list,d - k*np.math.factorial(n-1)) "
   ]
  },
  {
   "cell_type": "code",
   "execution_count": 4,
   "metadata": {},
   "outputs": [],
   "source": [
    "def unrank_binomial(n,k,d):\n",
    "    if n == 0:\n",
    "        return \"\"\n",
    "    C = scipy.special.binom(n-1,k)\n",
    "    if d < C:\n",
    "        return \"0\" + unrank_binomial(n-1,k,d)\n",
    "    else:\n",
    "        return \"1\" + unrank_binomial(n-1,k-1,d-C)"
   ]
  },
  {
   "cell_type": "code",
   "execution_count": null,
   "metadata": {},
   "outputs": [],
   "source": []
  },
  {
   "cell_type": "code",
   "execution_count": 5,
   "metadata": {},
   "outputs": [],
   "source": [
    "def relative_order(p):\n",
    "    '''takes a list of n distinct integers and returns the permutation from 0 to n-1 with the same relative order.'''\n",
    "    n = len(p)\n",
    "    SP = sorted(p)\n",
    "    output = [0]*n\n",
    "    for i in range(n):\n",
    "        ind = SP.index(p[i])\n",
    "        output[i] = ind\n",
    "    return output"
   ]
  },
  {
   "cell_type": "code",
   "execution_count": 6,
   "metadata": {},
   "outputs": [],
   "source": [
    "def avoids_231(permutation):\n",
    "    \"\"\"determines (True or False) if a permutation avoids the pattern 231\"\"\"\n",
    "    n = len(permutation)\n",
    "    if n<2:\n",
    "        return True\n",
    "    max_ind = 0\n",
    "    for i in range(1,n):\n",
    "        if permutation[max_ind] < permutation[i]:\n",
    "            max_ind = i\n",
    "    if avoids_231(permutation[:max_ind]):\n",
    "        if avoids_231(permutation[max_ind+1:]):\n",
    "            minL = 10000\n",
    "            for j in range(max_ind):\n",
    "                if permutation[j] < minL:\n",
    "                    minL = permutation[j]\n",
    "            for j in range(max_ind+1,n):\n",
    "                if permutation[j] > minL:\n",
    "                    return False\n",
    "            return True\n",
    "    return False\n",
    "    "
   ]
  },
  {
   "cell_type": "code",
   "execution_count": 13,
   "metadata": {},
   "outputs": [],
   "source": [
    "def avoids_321_slow(permutation):\n",
    "    \"\"\"determines (True or False) if a permutation avoids the pattern 321\"\"\"\n",
    "    n = len(permutation)\n",
    "    for i in range(1,n-2):\n",
    "        for j in range(i,n-1):\n",
    "            if permutation[i] > permutation[j]:\n",
    "                for k in range(j,n):\n",
    "                    if permutation[j]>permutation[k]:\n",
    "                        return False\n",
    "    return True"
   ]
  },
  {
   "cell_type": "code",
   "execution_count": 15,
   "metadata": {},
   "outputs": [],
   "source": [
    "def ALL_321_Avoiders(n):\n",
    "    output = []\n",
    "    fn = np.math.factorial(n)\n",
    "    for i in range(fn):\n",
    "        L = [k for k in range(n)]\n",
    "        p = unrank_permutation[k,i]\n",
    "        if avoids_321_slow(p):\n",
    "            output = output + [p]\n",
    "    return output"
   ]
  },
  {
   "cell_type": "code",
   "execution_count": 7,
   "metadata": {},
   "outputs": [],
   "source": [
    "def count_different_patterns(P,k):\n",
    "    \"\"\"counts the number of different patterns of length k in permutation P\"\"\"\n",
    "    count = 0\n",
    "    pattern_hash = defaultdict(int)\n",
    "    n = len(P)\n",
    "    C = scipy.special.binom(n,k)\n",
    "    for i in range(int(C)):\n",
    "        fbs = unrank_binomial(n,k,i)\n",
    "        rel_order = []\n",
    "        for j in range(n):\n",
    "            if fbs[j] == \"1\":\n",
    "                rel_order = rel_order + [P[j]]\n",
    "        RO = str(relative_order(rel_order))\n",
    "        if pattern_hash[RO] == 0:\n",
    "            count = count + 1\n",
    "        pattern_hash[RO] = pattern_hash[RO] + 1\n",
    "    return count"
   ]
  },
  {
   "cell_type": "code",
   "execution_count": 8,
   "metadata": {},
   "outputs": [],
   "source": [
    "def count_different_231_avoiders(P,k):\n",
    "    \"\"\"counts the number of different 231-avoiding patterns of length k in permutation P\"\"\"\n",
    "    count = 0\n",
    "    pattern_hash = defaultdict(int)\n",
    "    n = len(P)\n",
    "    C = scipy.special.binom(n,k)\n",
    "    for i in range(int(C)):\n",
    "        fbs = unrank_binomial(n,k,i)\n",
    "        rel_order = []\n",
    "        for j in range(n):\n",
    "            if fbs[j] == \"1\":\n",
    "                rel_order = rel_order + [P[j]]\n",
    "        RO = str(relative_order(rel_order))\n",
    "        if pattern_hash[RO] == 0:\n",
    "            if avoids_231(rel_order):\n",
    "                count = count + 1\n",
    "                pattern_hash[RO] = pattern_hash[RO] + 1\n",
    "    return count"
   ]
  },
  {
   "cell_type": "code",
   "execution_count": 9,
   "metadata": {},
   "outputs": [
    {
     "data": {
      "text/plain": [
       "10"
      ]
     },
     "execution_count": 9,
     "metadata": {},
     "output_type": "execute_result"
    }
   ],
   "source": [
    "count_different_231_avoiders([7,2,1,6,8,9,3,0,5,4],6)"
   ]
  },
  {
   "cell_type": "code",
   "execution_count": 10,
   "metadata": {},
   "outputs": [
    {
     "data": {
      "text/plain": [
       "59"
      ]
     },
     "execution_count": 10,
     "metadata": {},
     "output_type": "execute_result"
    }
   ],
   "source": [
    "count_different_patterns([7,2,1,6,8,9,3,0,5,4],6)"
   ]
  },
  {
   "cell_type": "code",
   "execution_count": 29,
   "metadata": {},
   "outputs": [],
   "source": [
    "def crossover1(P1,P2):\n",
    "    \"\"\"random entry fill in the gaps\"\"\"\n",
    "    n = len(P1)\n",
    "    offspring = [-1]*n\n",
    "    r = random.random()\n",
    "    if r < 0.5:\n",
    "        offspring[0] = P1[0]\n",
    "    else:\n",
    "        offspring[0] = P2[0]\n",
    "    for i in range(1,n):\n",
    "        r = random.random()\n",
    "        if r < 0.5:\n",
    "            j = i\n",
    "            while P1[j] in offspring:\n",
    "                j = (j+1) % n\n",
    "            offspring[i] = P1[j]\n",
    "        else:\n",
    "            j = i\n",
    "            while P2[j] in offspring:\n",
    "                j = (j+1) % n\n",
    "            offspring[i] = P2[j]\n",
    "    return offspring"
   ]
  },
  {
   "cell_type": "code",
   "execution_count": 30,
   "metadata": {},
   "outputs": [],
   "source": [
    "def crossover2(P1,P2):\n",
    "    \"\"\"cut and crossfill\"\"\"\n",
    "    n = len(P1)\n",
    "    child1 = [-1]*n\n",
    "    child2 = [-1]*n\n",
    "    r = random.randint(1,n-1)\n",
    "    for i in range(r):\n",
    "        child1[i] = P1[i]\n",
    "        child2[i] = P2[i]\n",
    "    j = r\n",
    "    while j < n:\n",
    "        for k in range(n):\n",
    "            if P2[k] not in child1:\n",
    "                child1[j] = P2[k]\n",
    "                j=j+1\n",
    "    j = r\n",
    "    while j < n:\n",
    "        for k in range(n):\n",
    "            if P1[k] not in child2:\n",
    "                child2[j] = P1[k]\n",
    "                j = j+1\n",
    "    return [child1,child2]"
   ]
  },
  {
   "cell_type": "code",
   "execution_count": 31,
   "metadata": {},
   "outputs": [],
   "source": [
    "def crossover3(P1,P2):\n",
    "    \"\"\"cut and cross-pattern\"\"\"\n",
    "    n = len(P1)\n",
    "    child1 = [-1]*n\n",
    "    child2 = [-1]*n\n",
    "    r = random.randint(1,n-1)\n",
    "    for i in range(r):\n",
    "        child1[i] = P1[i]\n",
    "        child2[i] = P2[i]\n",
    "    RO1 = relative_order(P1[r:])\n",
    "    RO2 = relative_order(P2[r:])\n",
    "    k = 0\n",
    "    for i in range(n):\n",
    "        if i not in child1:\n",
    "            child1[r+RO2.index(k)] = i\n",
    "            k = k+1\n",
    "    k=0\n",
    "    for i in range(n):\n",
    "        if i not in child2:\n",
    "            child2[r+RO1.index(k)] = i\n",
    "            k = k+1\n",
    "    return [child1,child2]"
   ]
  },
  {
   "cell_type": "code",
   "execution_count": 32,
   "metadata": {},
   "outputs": [],
   "source": [
    "def mut1(Perm,r1,r2):\n",
    "    \"\"\"helper function for mutation1\"\"\"\n",
    "    n = len(Perm)\n",
    "    output = [i for i in Perm]\n",
    "    if r1 == r2:\n",
    "        return(Perm)\n",
    "    output[r1+1]=Perm[r2]\n",
    "    for i in range(r1+2,r2+1):\n",
    "        output[i] = Perm[i-1]\n",
    "    return output\n",
    "\n",
    "\n",
    "def mutation1(Perm):\n",
    "    \"\"\"does a single random transposition to a permutation\"\"\"\n",
    "    n = len(Perm)\n",
    "    r1 = random.randint(0,n-1)\n",
    "    r2 = random.randint(0,n-1)\n",
    "    if r1<=r2:\n",
    "        return mut1(Perm,r1,r2)\n",
    "    else:\n",
    "        REV = [Perm[n-1-j] for j in range(n)]\n",
    "        output = mut1(REV,r2,r1)\n",
    "        return [output[n-1-j] for j in range(n)]"
   ]
  },
  {
   "cell_type": "code",
   "execution_count": 10,
   "metadata": {},
   "outputs": [],
   "source": []
  },
  {
   "cell_type": "code",
   "execution_count": 33,
   "metadata": {},
   "outputs": [],
   "source": []
  },
  {
   "cell_type": "code",
   "execution_count": 16,
   "metadata": {},
   "outputs": [],
   "source": []
  },
  {
   "cell_type": "code",
   "execution_count": 35,
   "metadata": {},
   "outputs": [],
   "source": [
    "def Evolutionary_Algorithm_random_universality_231(n,k,p,g,m,pp):\n",
    "    \"\"\"attempts to select the best n-length permutation based on how many different k-patterns are found\"\"\"\n",
    "    \"\"\"p is size of population, g is number of fitness evaluations until algorithm terminates, m is mutation rate, pp is the size of the 'parent pool' to select parents\"\"\"\n",
    "    #initialize population and compute fitness for each individual\n",
    "    POP = []\n",
    "    for j in range(p):\n",
    "        r = random.randint(0,np.math.factorial(n)-1)\n",
    "        P = unrank_permutation([i for i in range(n)],r)\n",
    "        fitness = count_different_231_avoiders(P,k)\n",
    "        POP = POP + [[fitness,P]]\n",
    "    #sort initial population from most fit to least fit.\n",
    "    POP.sort()\n",
    "    POP.reverse()\n",
    "    #initialize a counter for the number of fitness evaluations\n",
    "    fe = 0\n",
    "    #start the loop\n",
    "    while(fe<g+1):\n",
    "        #randomly select pp individuals from the POPulation to form the parent pool\n",
    "        randomset = random.sample(POP,pp)\n",
    "        #select the top 2 from the parent pool to be parents and crossover\n",
    "        randomset.sort()\n",
    "        P1 = randomset[-1]\n",
    "        P2 = randomset[-2]\n",
    "        P3 = randomset[-3]\n",
    "        P4 = randomset[-4]\n",
    "        crossover_type = random.randint(1,3)\n",
    "        if crossover_type == 1:\n",
    "            child1 = crossover1(P1[1],P4[1])\n",
    "            child2 = crossover1(P2[1],P3[1])\n",
    "        if crossover_type == 2:\n",
    "            [child1,child2] = crossover2(P1[1],P2[1])\n",
    "        if crossover_type == 3:\n",
    "            [child1,child2] = crossover3(P1[1],P2[1])\n",
    "        fitness1 = count_different_231_avoiders(child1,k)\n",
    "        fitness2 = count_different_231_avoiders(child2,k)\n",
    "        fe = fe+2\n",
    "        #apply mutation to the offspring at a m mutation rate\n",
    "        mr = random.random()\n",
    "        if mr < m: \n",
    "            notimproved = True\n",
    "            while notimproved:\n",
    "                mchild1 = mutation1(child1)\n",
    "                mchild2 = mutation1(child2)\n",
    "                mfitness1 = count_different_231_avoiders(child1,k)\n",
    "                mfitness2 = count_different_231_avoiders(child2,k)\n",
    "                fe = fe+2\n",
    "                if mfitness1 >= fitness1:\n",
    "                    notimproved = False\n",
    "                    child1 = mchild1\n",
    "                    fitness1 = mfitness1\n",
    "                if mfitness2 >= fitness2:\n",
    "                    notimproved = False\n",
    "                    child2 = mchild2\n",
    "                    fitness2 = mfitness2            \n",
    "                mr = random.random()\n",
    "        #compute fitness for each child and increment the fitness evaluation counter\n",
    "        #include the offspring into the population, resort and delete the 2 weakest individuals.\n",
    "        POP = POP + [[fitness1,child1]]\n",
    "        POP = POP + [[fitness2,child2]]\n",
    "        POP.sort()\n",
    "        POP.reverse()\n",
    "        POP = POP[:p]\n",
    "#        if fe % int(g/10) == 0:\n",
    "#            print([fe],[POP[0]],[POP[j][0] for j in range(10)],[POP[-1][0]])\n",
    "#            plot_permutation(POP[0][1])\n",
    "#            plt.show()\n",
    "    return POP"
   ]
  },
  {
   "cell_type": "code",
   "execution_count": null,
   "metadata": {},
   "outputs": [],
   "source": []
  },
  {
   "cell_type": "code",
   "execution_count": null,
   "metadata": {},
   "outputs": [],
   "source": []
  },
  {
   "cell_type": "markdown",
   "metadata": {},
   "source": [
    "# Experiments:\n",
    "\n",
    "* Input: Evolutionary_Algorithm2_universality(13,7,1000,10000,0.8,25): This took around 10 minutes and maxed out at 1007. The correct answer according to Michael's chart is 1094. The maximal permutation is: [9, 2, 6, 12, 0, 8, 4, 10, 1, 5, 11, 7, 3]. The population was 1000, and all 1000 individuals were identical. Let's try with a larger population and a larger parent pool and a larger number of fitness evaluations.\n",
    "\n",
    "* Input: Evolutionary_Algorithm2_universality(13,7,5000,20000,0.8,30): This took around 20-30 minutes? and maxed out at 1074. The correct answer according to Michael's chart is 1094. The maximal permutation is: [4, 9, 1, 6, 11, 3, 7, 0, 10, 5, 12, 2, 8].\n",
    "\n",
    "* Input: Evolutionary_Algorithm1_universality(13,7,1000,10000,0.8,25): This took around 10 minutes and maxed out at 964. The correct answer according to Michael's chart is 1094. The maximal permutation is: [7, 1, 10, 3, 6, 11, 0, 4, 8, 12, 2, 9, 5]. Using crossover 1 makes for a slower evolution process rather than crossover 2 but maybe that is okay.\n",
    "\n",
    "* Input: Evolutionary_Algorithm1_universality(13,7,5000,20000,0.8,30): This took around 20-30 minutes? and maxed out at 979. The correct answer according to Michael's chart is 1094. The maximal permutation is: [9, 1, 5, 11, 3, 7, 0, 4, 8, 12, 2, 10, 6].\n",
    "\n",
    "\n",
    "* 3: 1063\n",
    "* 3: 1066\n",
    "\n",
    "* Evolutionary_Algorithm_random_universality(13,7,5000,20000,0.8,30): 1066\n",
    "* EA = Evolutionary_Algorithm_random_universality(13,7,7000,50000,0.8,40): 1065\n"
   ]
  },
  {
   "cell_type": "code",
   "execution_count": 36,
   "metadata": {},
   "outputs": [],
   "source": [
    "U = [[0]*20 for i in range(20)]"
   ]
  },
  {
   "cell_type": "code",
   "execution_count": null,
   "metadata": {},
   "outputs": [
    {
     "name": "stdout",
     "output_type": "stream",
     "text": [
      "1 (1, 1)\n",
      "1 (1, 2)\n",
      "1 (1, 3)\n",
      "1 (1, 4)\n",
      "1 (1, 5)\n",
      "1 (1, 6)\n",
      "1 (1, 7)\n",
      "1 (1, 8)\n",
      "1 (1, 9)\n",
      "1 (1, 10)\n",
      "1 (1, 11)\n",
      "1 (1, 12)\n",
      "1 (1, 13)\n",
      "2 (2, 1)\n",
      "2 (2, 2)\n",
      "2 (2, 3)\n",
      "2 (2, 4)\n",
      "2 (2, 5)\n",
      "2 (2, 6)\n",
      "2 (2, 7)\n",
      "2 (2, 8)\n",
      "2 (2, 9)\n",
      "2 (2, 10)\n",
      "2 (2, 11)\n",
      "2 (2, 12)\n",
      "2 (2, 13)\n",
      "3 (3, 1)\n",
      "5 (3, 2)\n",
      "5 (3, 3)\n",
      "5 (3, 4)\n",
      "5 (3, 5)\n",
      "5 (3, 6)\n",
      "5 (3, 7)\n",
      "5 (3, 8)\n",
      "5 (3, 9)\n",
      "5 (3, 10)\n",
      "5 (3, 11)\n",
      "5 (3, 12)\n",
      "5 (3, 13)\n",
      "4 (4, 1)\n",
      "8 (4, 2)\n",
      "12 (4, 3)\n",
      "14 (4, 4)\n",
      "14 (4, 5)\n",
      "14 (4, 6)\n",
      "14 (4, 7)\n",
      "14 (4, 8)\n",
      "14 (4, 9)\n",
      "14 (4, 10)\n",
      "14 (4, 11)\n",
      "14 (4, 12)\n",
      "14 (4, 13)\n",
      "5 (5, 1)\n",
      "13 (5, 2)\n",
      "22 (5, 3)\n",
      "31 (5, 4)\n",
      "37 (5, 5)\n",
      "42 (5, 6)\n",
      "42 (5, 7)\n",
      "42 (5, 8)\n",
      "42 (5, 9)\n",
      "42 (5, 10)\n",
      "42 (5, 11)\n",
      "42 (5, 12)\n",
      "42 (5, 13)\n",
      "6 (6, 1)\n",
      "18 (6, 2)\n",
      "38 (6, 3)\n",
      "60 (6, 4)\n",
      "83 (6, 5)\n",
      "99 (6, 6)\n",
      "118 (6, 7)\n",
      "126 (6, 8)\n",
      "130 (6, 9)\n",
      "132 (6, 10)\n"
     ]
    }
   ],
   "source": [
    "for m in range(1,14):\n",
    "    for k in range(1,14):\n",
    "        n = k+m\n",
    "        EA = Evolutionary_Algorithm_random_universality_231(n,m,1000,10000,0.8,25)\n",
    "        U[m][k] = EA[0][0]\n",
    "        print(U[m][k],(m,k))"
   ]
  },
  {
   "cell_type": "code",
   "execution_count": null,
   "metadata": {},
   "outputs": [],
   "source": []
  }
 ],
 "metadata": {
  "kernelspec": {
   "display_name": "Python 3",
   "language": "python",
   "name": "python3"
  },
  "language_info": {
   "codemirror_mode": {
    "name": "ipython",
    "version": 3
   },
   "file_extension": ".py",
   "mimetype": "text/x-python",
   "name": "python",
   "nbconvert_exporter": "python",
   "pygments_lexer": "ipython3",
   "version": "3.7.4"
  }
 },
 "nbformat": 4,
 "nbformat_minor": 2
}
