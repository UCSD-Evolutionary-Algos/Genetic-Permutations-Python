{
 "cells": [
  {
   "cell_type": "code",
   "execution_count": 12,
   "metadata": {},
   "outputs": [],
   "source": [
    "%run evolution_file.py"
   ]
  },
  {
   "cell_type": "code",
   "execution_count": 3,
   "metadata": {},
   "outputs": [],
   "source": [
    "def count_24153_Total(permutation):\n",
    "    P = permutation\n",
    "    n = len(P)\n",
    "    C = 0\n",
    "    Total = 0\n",
    "    for i in range(n-4):\n",
    "        for j in range(i+1,n-3):\n",
    "            if P[i] < P[j]:\n",
    "                for k in range(j+1,n-2):\n",
    "                    if P[k] < P[i]:\n",
    "                        for l in range(k+1,n-1):\n",
    "                            if P[l] > P[j]:\n",
    "                                for h in range(l+1,n):\n",
    "                                    if P[h] < P[j] and P[h] > P[i]:\n",
    "                                        C = C + 1\n",
    "                                    Total = Total + 1\n",
    "                            else:\n",
    "                                Total = Total + 1\n",
    "                    else:\n",
    "                        Total = Total + 1\n",
    "            else:\n",
    "                Total = Total + 1\n",
    "    return [C,Total]"
   ]
  },
  {
   "cell_type": "code",
   "execution_count": 14,
   "metadata": {},
   "outputs": [
    {
     "name": "stdout",
     "output_type": "stream",
     "text": [
      "411347303084661277522044390526725948145304076452512203275886217438598456823258501443340419764594540140731899792247715816053416881526460504317500735343074269109333664778579584413924420432450936918810870834914707731088555138989781394235560527760031665564915880666109355764418607312661611479710109769468802900993580846296069718044499213201045135236354292120507102708774511443314\n",
      "[104, 62, 168, 72, 182, 190, 135, 119, 162, 18, 171, 31, 129, 9, 64, 93, 91, 66, 186, 161, 130, 46, 82, 179, 163, 160, 137, 53, 92, 164, 43, 15, 35, 90, 106, 45, 32, 143, 2, 147, 150, 12, 132, 20, 114, 78, 113, 38, 121, 36, 108, 74, 26, 49, 188, 181, 166, 56, 146, 134, 183, 77, 176, 136, 149, 5, 105, 197, 165, 101, 73, 75, 39, 25, 128, 83, 122, 21, 127, 8, 48, 151, 187, 185, 4, 54, 79, 141, 76, 173, 42, 100, 30, 96, 14, 174, 87, 199, 28, 142, 195, 6, 124, 27, 17, 63, 144, 103, 24, 172, 111, 11, 13, 33, 152, 55, 16, 44, 61, 118, 98, 80, 65, 89, 71, 67, 95, 1, 34, 59, 154, 41, 158, 177, 192, 180, 123, 50, 196, 140, 107, 175, 153, 37, 23, 110, 22, 3, 112, 120, 193, 85, 10, 189, 94, 170, 58, 198, 19, 138, 194, 133, 40, 157, 145, 57, 70, 84, 167, 109, 7, 29, 156, 125, 102, 97, 115, 69, 81, 117, 155, 47, 51, 52, 126, 178, 131, 139, 68, 86, 88, 169, 191, 99, 159, 60, 116, 184, 0, 148]\n",
      "[24576452, 119638418]\n",
      "119638418 2535650040.0 0.04718254337652999\n"
     ]
    }
   ],
   "source": [
    "r = random.randint(0,np.math.factorial(200))\n",
    "print(r)\n",
    "UP = unrank_permutation([i for i in range(200)],r)\n",
    "print(UP)\n",
    "CT = count_24153_Total(UP)\n",
    "print(CT)\n",
    "b = scipy.special.binom(200,5)\n",
    "print(CT[1],b,CT[1]/b)"
   ]
  },
  {
   "cell_type": "code",
   "execution_count": 25,
   "metadata": {},
   "outputs": [],
   "source": [
    "def count_2413_count(permutation):\n",
    "    P = permutation\n",
    "    n = len(P)\n",
    "    C = 0\n",
    "    TOTAL = 0\n",
    "    for i in range(n-3):\n",
    "        for j in range(i+1,n-2):\n",
    "            if P[i] < P[j]:\n",
    "                for k in range(j+1,n-1):\n",
    "                    if P[k] < P[i]:\n",
    "                        for l in range(k+1,n):\n",
    "                            if P[l] < P[j] and P[l]>  P[i]:\n",
    "                                C = C+1\n",
    "                                TOTAL = TOTAL + 1\n",
    "                    else:\n",
    "                        TOTAL = TOTAL + 1\n",
    "            else:\n",
    "                TOTAL = TOTAL + 1\n",
    "                \n",
    "    return C"
   ]
  },
  {
   "cell_type": "code",
   "execution_count": 16,
   "metadata": {},
   "outputs": [],
   "source": [
    "def Evolutionary_Algorithm_randomcrossover_2413(n):\n",
    "    #initialize population and compute fitness for each individual\n",
    "    POP = []\n",
    "    for j in range(15000):\n",
    "        r = random.randint(0,np.math.factorial(n)-1)\n",
    "        P = unrank_permutation([i for i in range(n)],r)\n",
    "        fitness = count_2413(P)\n",
    "        POP = POP + [[fitness,P]]\n",
    "    #sort initial population from most fit to least fit.\n",
    "    POP.sort()\n",
    "    POP.reverse()\n",
    "    #initialize a counter for fitness evaluations\n",
    "    fe = 0\n",
    "    #start the loop\n",
    "    while(fe<400001):\n",
    "        #randomly select 5 from the pop\n",
    "        randomset = random.sample(POP,25)\n",
    "        #select the top 2 out of 5 for parents and crossover\n",
    "        randomset.sort()\n",
    "        P1 = randomset[-1]\n",
    "        P2 = randomset[-2]\n",
    "        P3 = randomset[-3]\n",
    "        P4 = randomset[-4]\n",
    "        crossover_type = random.randint(1,3)\n",
    "        if crossover_type == 1:\n",
    "            child1 = crossover1(P1[1],P4[1])\n",
    "            child2 = crossover1(P2[1],P3[1])\n",
    "        if crossover_type == 2:\n",
    "            [child1,child2] = crossover2(P1[1],P2[1])\n",
    "        if crossover_type == 3:\n",
    "            [child1,child2] = crossover3(P1[1],P2[1])\n",
    "        #apply mutation to the offspring at a 80% mutation rate\n",
    "        mr = random.random()\n",
    "        while mr < 0.8:\n",
    "            child1 = mutation1(child1)\n",
    "            child2 = mutation1(child2)\n",
    "            mr = random.random()\n",
    "        #compute fitness for each child and increment the fitness evaluation counter\n",
    "        fitness1 = count_2413(child1)\n",
    "        fitness2 = count_2413(child2)\n",
    "        fe = fe+2\n",
    "        #include the offspring into the population, resort and delete the 2 weakest individuals.\n",
    "        POP = POP + [[fitness1,child1]]\n",
    "        POP = POP + [[fitness2,child2]]\n",
    "        POP.sort()\n",
    "        POP.reverse()\n",
    "        POP = POP[:15000]\n",
    "        if fe % 10000 == 0:\n",
    "            print([fe],[POP[j][0] for j in range(10)],[POP[-1][0]])\n",
    "            plot_permutation(POP[0][1])\n",
    "            plt.show()\n",
    "    return POP"
   ]
  },
  {
   "cell_type": "code",
   "execution_count": 19,
   "metadata": {},
   "outputs": [],
   "source": [
    "def Evolutionary_Algorithm_randomcrossover_2413_POP(n,POPULATION):\n",
    "    #initialize population and compute fitness for each individual\n",
    "    POP = POPULATION\n",
    "    POP.sort()\n",
    "    POP.reverse()\n",
    "    #initialize a counter for fitness evaluations\n",
    "    fe = 0\n",
    "    #start the loop\n",
    "    while(fe<400001):\n",
    "        #randomly select 5 from the pop\n",
    "        randomset = random.sample(POP,25)\n",
    "        #select the top 2 out of 5 for parents and crossover\n",
    "        randomset.sort()\n",
    "        P1 = randomset[-1]\n",
    "        P2 = randomset[-2]\n",
    "        P3 = randomset[-3]\n",
    "        P4 = randomset[-4]\n",
    "        crossover_type = random.randint(1,3)\n",
    "        if crossover_type == 1:\n",
    "            child1 = crossover1(P1[1],P4[1])\n",
    "            child2 = crossover1(P2[1],P3[1])\n",
    "        if crossover_type == 2:\n",
    "            [child1,child2] = crossover2(P1[1],P2[1])\n",
    "        if crossover_type == 3:\n",
    "            [child1,child2] = crossover3(P1[1],P2[1])\n",
    "        #apply mutation to the offspring at a 80% mutation rate\n",
    "        mr = random.random()\n",
    "        while mr < 0.8:\n",
    "            child1 = mutation1(child1)\n",
    "            child2 = mutation1(child2)\n",
    "            mr = random.random()\n",
    "        #compute fitness for each child and increment the fitness evaluation counter\n",
    "        fitness1 = count_2413(child1)\n",
    "        fitness2 = count_2413(child2)\n",
    "        fe = fe+2\n",
    "        #include the offspring into the population, resort and delete the 2 weakest individuals.\n",
    "        POP = POP + [[fitness1,child1]]\n",
    "        POP = POP + [[fitness2,child2]]\n",
    "        POP.sort()\n",
    "        POP.reverse()\n",
    "        POP = POP[:15000]\n",
    "        if fe % 10000 == 0:\n",
    "            print([fe],[POP[j][0] for j in range(10)],[POP[-1][0]])\n",
    "            plot_permutation(POP[0][1])\n",
    "            plt.show()\n",
    "    return POP"
   ]
  },
  {
   "cell_type": "code",
   "execution_count": null,
   "metadata": {},
   "outputs": [],
   "source": []
  },
  {
   "cell_type": "code",
   "execution_count": null,
   "metadata": {},
   "outputs": [],
   "source": []
  },
  {
   "cell_type": "code",
   "execution_count": null,
   "metadata": {},
   "outputs": [],
   "source": []
  },
  {
   "cell_type": "code",
   "execution_count": null,
   "metadata": {},
   "outputs": [],
   "source": []
  },
  {
   "cell_type": "code",
   "execution_count": null,
   "metadata": {},
   "outputs": [],
   "source": []
  },
  {
   "cell_type": "code",
   "execution_count": null,
   "metadata": {},
   "outputs": [],
   "source": [
    " "
   ]
  }
 ],
 "metadata": {
  "kernelspec": {
   "display_name": "Python 3",
   "language": "python",
   "name": "python3"
  },
  "language_info": {
   "codemirror_mode": {
    "name": "ipython",
    "version": 3
   },
   "file_extension": ".py",
   "mimetype": "text/x-python",
   "name": "python",
   "nbconvert_exporter": "python",
   "pygments_lexer": "ipython3",
   "version": "3.7.4"
  }
 },
 "nbformat": 4,
 "nbformat_minor": 2
}
